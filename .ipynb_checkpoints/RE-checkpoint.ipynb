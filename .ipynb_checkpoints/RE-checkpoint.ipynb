{
 "cells": [
  {
   "cell_type": "code",
   "execution_count": 1,
   "metadata": {},
   "outputs": [],
   "source": [
    "import re"
   ]
  },
  {
   "cell_type": "code",
   "execution_count": 2,
   "metadata": {},
   "outputs": [
    {
     "name": "stdout",
     "output_type": "stream",
     "text": [
      "True\n"
     ]
    }
   ],
   "source": [
    "txt = \"The rain in Spain\"\n",
    "x = re.search(r'^The.*Spain$',txt)\n",
    "print(x.string == txt)"
   ]
  },
  {
   "cell_type": "markdown",
   "metadata": {},
   "source": [
    "# RegEx Functions\n",
    "The Search Function<br>\n",
    "The Substitue Function<br>\n",
    "The Sprilt Function<br>\n",
    "The Find All Fucntion"
   ]
  },
  {
   "cell_type": "markdown",
   "metadata": {},
   "source": [
    "# The Search Function\n"
   ]
  },
  {
   "cell_type": "markdown",
   "metadata": {},
   "source": [
    "This function searches for first occurrence of RE pattern within string with optional flags.<br>\n",
    "Here is the syntax for this function −<br><br>\n",
    "re.search(pattern, string, flags=0)<br><br>\n",
    "Here is the description of the parameters −<br>\n",
    "pattern- This is the regular expression to be matched.<br>\n",
    "string - This is the string, which would be searched to match the pattern anywhere in the string.<br>\n",
    "flags - You can specify different flags using bitwise OR (|). These are modifiers, which are listed in the table below."
   ]
  },
  {
   "cell_type": "code",
   "execution_count": 6,
   "metadata": {},
   "outputs": [
    {
     "name": "stdout",
     "output_type": "stream",
     "text": [
      "The first white-space character is located in position: 3\n"
     ]
    }
   ],
   "source": [
    "x = re.search(r'\\b',txt) #\n",
    "print(\"The first white-space character is located in position:\", x.start())"
   ]
  },
  {
   "cell_type": "code",
   "execution_count": 8,
   "metadata": {},
   "outputs": [],
   "source": [
    "\n",
    "# /Metacharacters are characters with a special meaning:<br><br>\n",
    "# Character Description<br>\n",
    "# []   A set of characters \"[a-m]\"<br>\n",
    "# \\    Signals a special sequence (can also be used to escape special characters) \"\\d\"<br>\n",
    "# .    Any character (except newline character) \"he..o\"<br><br>\n",
    "# ^    Starts with \"^hello\"<br>\n",
    "# *    Zero or more occurrences \"aix*\"<br><br>\n",
    "# +    One or more occurrences \"aix+\"<br>\n",
    "# {}   Excactly the specified number of occurrences \"al{2}\"<br>\n",
    "# |    Either or \"falls|stays\"<br>\n",
    "# ()   Capture and group<br>\n",
    "# $    Ends with \"world$\"<br>"
   ]
  },
  {
   "cell_type": "code",
   "execution_count": 11,
   "metadata": {},
   "outputs": [],
   "source": [
    "x = re.search(r'in\\b',txt) "
   ]
  },
  {
   "cell_type": "code",
   "execution_count": 12,
   "metadata": {},
   "outputs": [
    {
     "data": {
      "text/plain": [
       "<re.Match object; span=(6, 8), match='in'>"
      ]
     },
     "execution_count": 12,
     "metadata": {},
     "output_type": "execute_result"
    }
   ],
   "source": [
    "x"
   ]
  },
  {
   "cell_type": "code",
   "execution_count": 13,
   "metadata": {},
   "outputs": [
    {
     "data": {
      "text/plain": [
       "re.compile(r'[a-z]+', re.UNICODE)"
      ]
     },
     "execution_count": 13,
     "metadata": {},
     "output_type": "execute_result"
    }
   ],
   "source": [
    "compiler = re.compile('[a-z]+')\n",
    "compiler"
   ]
  },
  {
   "cell_type": "code",
   "execution_count": 14,
   "metadata": {},
   "outputs": [
    {
     "data": {
      "text/plain": [
       "re.compile(r'[a-z]+', re.IGNORECASE|re.UNICODE)"
      ]
     },
     "execution_count": 14,
     "metadata": {},
     "output_type": "execute_result"
    }
   ],
   "source": [
    "compiler = re.compile('[a-z]+',re.IGNORECASE)\n",
    "compiler"
   ]
  },
  {
   "cell_type": "code",
   "execution_count": 15,
   "metadata": {},
   "outputs": [
    {
     "name": "stdout",
     "output_type": "stream",
     "text": [
      "<re.Match object; span=(0, 10), match='Schoolofai'>\n"
     ]
    }
   ],
   "source": [
    "print(compiler.match('Schoolofai'))"
   ]
  },
  {
   "cell_type": "code",
   "execution_count": 16,
   "metadata": {},
   "outputs": [],
   "source": [
    "line = \"Lets teach the machines to learn\"\n",
    "matchObject = re.match( r'(.*) the (.*?) .*', line, re.M|re.I)"
   ]
  },
  {
   "cell_type": "code",
   "execution_count": 19,
   "metadata": {},
   "outputs": [
    {
     "name": "stdout",
     "output_type": "stream",
     "text": [
      "matchObj.group() :  Lets teach the machines to learn\n",
      "matchObj.group(1) :  Lets teach\n",
      "matchObj.group(2) :  machines\n"
     ]
    }
   ],
   "source": [
    "if matchObject:\n",
    "    \n",
    "    print (\"matchObj.group() : \", matchObject.group())\n",
    "    print (\"matchObj.group(1) : \", matchObject.group(1))\n",
    "    print (\"matchObj.group(2) : \", matchObject.group(2))\n",
    "else:\n",
    "    print (\"No match!!\")"
   ]
  },
  {
   "cell_type": "code",
   "execution_count": 20,
   "metadata": {},
   "outputs": [
    {
     "name": "stdout",
     "output_type": "stream",
     "text": [
      "The first white-space character is located in position: 3\n"
     ]
    }
   ],
   "source": [
    "string = \"The School of AI\"\n",
    "x = re.search(\"\\s\", string)\n",
    "print(\"The first white-space character is located in position:\", x.start())"
   ]
  },
  {
   "cell_type": "code",
   "execution_count": 21,
   "metadata": {},
   "outputs": [
    {
     "name": "stdout",
     "output_type": "stream",
     "text": [
      "match --> No match!!\n",
      "search --> searchObj.group() :  dogs\n"
     ]
    }
   ],
   "source": [
    "line = \"Cats are smarter than dogs\";\n",
    "matchObj = re.match( r'dogs', line, re.M|re.I)\n",
    "if matchObj:\n",
    "    print (\"match --> matchObj.group() : \", matchObj.group())\n",
    "else:\n",
    "    print (\"match --> No match!!\")\n",
    "searchObj = re.search( r'dogs', line, re.M|re.I)\n",
    "if searchObj:\n",
    "    print (\"search --> searchObj.group() : \", searchObj.group())\n",
    "else:\n",
    "    print (\"search --> Nothing found!!\")"
   ]
  },
  {
   "cell_type": "code",
   "execution_count": 22,
   "metadata": {},
   "outputs": [
    {
     "name": "stdout",
     "output_type": "stream",
     "text": [
      "[\"Let's\", 'make', 'the', 'machine', 'learn']\n"
     ]
    }
   ],
   "source": [
    "string = \"Let's make the machine learn\"\n",
    "split = re.split(\"\\s\", string)\n",
    "print(split)"
   ]
  },
  {
   "cell_type": "code",
   "execution_count": 23,
   "metadata": {},
   "outputs": [
    {
     "name": "stdout",
     "output_type": "stream",
     "text": [
      "Let's_make_the_machine_learn\n"
     ]
    }
   ],
   "source": [
    "string = \"Let's make the machine learn\"\n",
    "substitute = re.sub(\"\\s\", \"_\", string)\n",
    "print(substitute)"
   ]
  },
  {
   "cell_type": "code",
   "execution_count": 24,
   "metadata": {},
   "outputs": [
    {
     "name": "stdout",
     "output_type": "stream",
     "text": [
      "['the', 'the']\n"
     ]
    }
   ],
   "source": [
    "string = \"Let's make the machine learn, the school of ai\"\n",
    "alloccurances = re.findall(\"the\", string)\n",
    "print(alloccurances)"
   ]
  },
  {
   "cell_type": "code",
   "execution_count": null,
   "metadata": {},
   "outputs": [],
   "source": []
  }
 ],
 "metadata": {
  "kernelspec": {
   "display_name": "Python 3",
   "language": "python",
   "name": "python3"
  },
  "language_info": {
   "codemirror_mode": {
    "name": "ipython",
    "version": 3
   },
   "file_extension": ".py",
   "mimetype": "text/x-python",
   "name": "python",
   "nbconvert_exporter": "python",
   "pygments_lexer": "ipython3",
   "version": "3.7.1"
  },
  "toc": {
   "base_numbering": 1,
   "nav_menu": {},
   "number_sections": true,
   "sideBar": true,
   "skip_h1_title": false,
   "title_cell": "Table of Contents",
   "title_sidebar": "Contents",
   "toc_cell": false,
   "toc_position": {},
   "toc_section_display": true,
   "toc_window_display": false
  }
 },
 "nbformat": 4,
 "nbformat_minor": 2
}
